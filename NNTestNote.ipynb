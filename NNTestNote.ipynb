{
 "cells": [
  {
   "cell_type": "code",
   "execution_count": 1,
   "metadata": {},
   "outputs": [],
   "source": [
    "import numpy as np"
   ]
  },
  {
   "cell_type": "markdown",
   "metadata": {},
   "source": [
    "# Components\n",
    "## Network\n",
    "- Network class is construct network"
   ]
  },
  {
   "cell_type": "code",
   "execution_count": 2,
   "metadata": {},
   "outputs": [],
   "source": [
    "class Network:\n",
    "    def __init__(self, cost=None, max_iteration=1000):\n",
    "        self.max_iteration = max_iteration\n",
    "        self.layers = []\n",
    "        self.cost_history = []\n",
    "        self.cost = cost\n",
    "        \n",
    "    def __repr__(self):\n",
    "        base = \"Network(cost={}, max_iteration={})\".format(self.cost.__name__, self.max_iteration)\n",
    "        for layer in self.layers:\n",
    "            base = base + \".add_layer(\\n    {}\\n)\".format(layer)\n",
    "        return base\n",
    "    \n",
    "    def add_layer(self, layer):\n",
    "        if len(self.layers) == 0:\n",
    "            # added bias\n",
    "            layer.input_size += 1\n",
    "            layer.weights = np.random.normal(size=(layer.hidden_size, layer.input_size))\n",
    "        self.layers.append(layer)\n",
    "        return self\n",
    "    \n",
    "    def fit(self, x, y):\n",
    "        self.cost_history = []\n",
    "        \n",
    "        x = np.insert(x[:, np.newaxis] if x.ndim ==1 else x, 0, 1, axis=1)\n",
    "        y = y[:, np.newaxis] if y.ndim == 1 else y\n",
    "\n",
    "        for i in range(self.max_iteration):\n",
    "            N = x.shape[0]\n",
    "            # forward\n",
    "            a = x\n",
    "            a_history = []\n",
    "            for layer in self.layers:\n",
    "                a_history.append(a)\n",
    "                z = layer.forward(a)\n",
    "                if layer.activation:\n",
    "                    a = layer.activation.forward(z)\n",
    "                else:\n",
    "                    a = z\n",
    "            \n",
    "            cost = self.cost.error(a, y)\n",
    "            self.cost_history.append(cost)\n",
    "            \n",
    "            # back propagation\n",
    "            delta = self.cost.delta(a, y)\n",
    "            for layer, a in zip(self.layers[::-1], a_history[::-1]):\n",
    "                delta = layer.backward(a, delta)\n",
    "                \n",
    "    def predict(self, x):\n",
    "        a = np.insert(x[:, np.newaxis] if x.ndim ==1 else x, 0, 1, axis=1)\n",
    "        for layer in self.layers:\n",
    "            z = layer.forward(a)\n",
    "            a = layer.activation.forward(z) if layer.activation else z\n",
    "        return a"
   ]
  },
  {
   "cell_type": "markdown",
   "metadata": {},
   "source": [
    "## Layer\n",
    "### DenseLayer"
   ]
  },
  {
   "cell_type": "code",
   "execution_count": 3,
   "metadata": {},
   "outputs": [],
   "source": [
    "class DenseLayer:\n",
    "    def __init__(self, input_size=1, hidden_size=1, learning_rate=0.0001, activation=None):\n",
    "        self.learning_rate = learning_rate\n",
    "        self.given_input_size = input_size\n",
    "        self.input_size = input_size\n",
    "        self.hidden_size = hidden_size\n",
    "        np.random.seed(4)\n",
    "        self.weights = np.random.normal(size=(hidden_size, input_size))\n",
    "        self.activation = activation\n",
    "    \n",
    "    def forward(self, x):\n",
    "        return np.dot(x, self.weights.T)\n",
    "    \n",
    "    def backward(self, a, delta):\n",
    "        d = self.activation.backward(delta) if self.activation else delta\n",
    "        ret = np.dot(d, self.weights)\n",
    "        self.update(a, d)\n",
    "        return ret\n",
    "    \n",
    "    def update(self, a, delta):\n",
    "        self.weights = self.weights - self.learning_rate * np.dot(delta.T, a)\n",
    "        \n",
    "    def __repr__(self):\n",
    "        return \"DenseLayer(input_size={}, hidden_size={}, learning_rate={}, activation={})\".format(self.given_input_size, self.hidden_size, self.learning_rate, self.activation.__name__ if self.activation is not None else None)"
   ]
  },
  {
   "cell_type": "markdown",
   "metadata": {},
   "source": [
    "## Activation Function\n",
    "### Relu"
   ]
  },
  {
   "cell_type": "code",
   "execution_count": 4,
   "metadata": {},
   "outputs": [],
   "source": [
    "class Relu:\n",
    "    def forward(x):\n",
    "        x_ret = x.copy()\n",
    "        x_ret[x <= 0] = 0\n",
    "        return x_ret\n",
    "\n",
    "    def backward(x):\n",
    "        x_ret = x.copy()\n",
    "        x_ret[x > 0] = 1\n",
    "        x_ret[x <= 0] = 0\n",
    "        return x"
   ]
  },
  {
   "cell_type": "markdown",
   "metadata": {},
   "source": [
    "## Cost function\n",
    "### MAE"
   ]
  },
  {
   "cell_type": "code",
   "execution_count": 5,
   "metadata": {},
   "outputs": [],
   "source": [
    "class MeanSquareError:\n",
    "    def error(y, t):\n",
    "        return np.sum((y-t)**2) / t.shape[0]\n",
    "    \n",
    "    def delta(y, t):\n",
    "        return y-t"
   ]
  },
  {
   "cell_type": "markdown",
   "metadata": {},
   "source": [
    "# Sample\n"
   ]
  },
  {
   "cell_type": "markdown",
   "metadata": {},
   "source": [
    "## Generating Data"
   ]
  },
  {
   "cell_type": "code",
   "execution_count": 6,
   "metadata": {},
   "outputs": [],
   "source": [
    "def original_function(x):\n",
    "    np.random.seed(4)\n",
    "    return 0.4 * (x-5)**2 + np.random.normal(size=(x.shape[0],))\n",
    "\n",
    "x = np.arange(0, 10, 0.1)\n",
    "y = original_function(x)"
   ]
  },
  {
   "cell_type": "markdown",
   "metadata": {},
   "source": [
    "## Construct Network & fitting"
   ]
  },
  {
   "cell_type": "code",
   "execution_count": 7,
   "metadata": {},
   "outputs": [],
   "source": [
    "net = Network(cost=MeanSquareError, max_iteration=100000)\n",
    "net.add_layer(\n",
    "    DenseLayer(input_size=1, hidden_size=15, learning_rate=0.00001, activation=Relu)\n",
    ").add_layer(\n",
    "    DenseLayer(input_size=15, hidden_size=10, learning_rate=0.00001, activation=Relu)\n",
    ").add_layer(\n",
    "    DenseLayer(input_size=10, learning_rate=0.00001)\n",
    ")\n",
    "\n",
    "net.fit(x, y)"
   ]
  },
  {
   "cell_type": "markdown",
   "metadata": {},
   "source": [
    "## Draw Graph"
   ]
  },
  {
   "cell_type": "code",
   "execution_count": 9,
   "metadata": {},
   "outputs": [
    {
     "data": {
      "image/png": "[encoded data removed]",
      "text/plain": [
       "<Figure size 432x288 with 1 Axes>"
      ]
     },
     "metadata": {
      "needs_background": "light"
     },
     "output_type": "display_data"
    }
   ],
   "source": [
    "import matplotlib.pyplot as plt\n",
    "plt.scatter(x, y, color=\"gray\", label=\"original\")\n",
    "plt.plot(x, net.predict(x), color=\"orange\", label=\"predicted\")\n",
    "plt.legend()\n",
    "plt.grid()"
   ]
  },
  {
   "cell_type": "code",
   "execution_count": null,
   "metadata": {},
   "outputs": [],
   "source": []
  }
 ],
 "metadata": {
  "kernelspec": {
   "display_name": "Python 3",
   "language": "python",
   "name": "python3"
  },
  "language_info": {
   "codemirror_mode": {
    "name": "ipython",
    "version": 3
   },
   "file_extension": ".py",
   "mimetype": "text/x-python",
   "name": "python",
   "nbconvert_exporter": "python",
   "pygments_lexer": "ipython3",
   "version": "3.6.7"
  }
 },
 "nbformat": 4,
 "nbformat_minor": 2
}
